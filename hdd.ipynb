{
 "cells": [
  {
   "cell_type": "code",
   "execution_count": 1,
   "id": "0e80251d",
   "metadata": {},
   "outputs": [
    {
     "name": "stderr",
     "output_type": "stream",
     "text": [
      "c:\\Users\\aguer\\anaconda3\\Lib\\site-packages\\pandas\\core\\arrays\\masked.py:60: UserWarning: Pandas requires version '1.3.6' or newer of 'bottleneck' (version '1.3.5' currently installed).\n",
      "  from pandas.core import (\n"
     ]
    }
   ],
   "source": [
    "import pandas as pd"
   ]
  },
  {
   "cell_type": "markdown",
   "id": "03ade8ea",
   "metadata": {},
   "source": [
    "#### Carga de Datos"
   ]
  },
  {
   "cell_type": "code",
   "execution_count": 3,
   "id": "1e554f6d",
   "metadata": {},
   "outputs": [],
   "source": [
    "df = pd.read_csv(\"total-degree-days.xlsx\")"
   ]
  },
  {
   "cell_type": "markdown",
   "id": "a661ea42",
   "metadata": {},
   "source": [
    "#### Normalizar Datos"
   ]
  },
  {
   "cell_type": "code",
   "execution_count": 4,
   "id": "67c178cd",
   "metadata": {},
   "outputs": [],
   "source": [
    "df[\"Date\"] = pd.to_datetime(df[\"Date\"], errors=\"coerce\")\n",
    "df[\"Value\"] = df[\"Value\"].astype(str).str.replace(\",\", \".\").astype(float)\n",
    "Tbase = 18"
   ]
  },
  {
   "cell_type": "markdown",
   "id": "e291e885",
   "metadata": {},
   "source": [
    "#### Extraer día y mes"
   ]
  },
  {
   "cell_type": "code",
   "execution_count": 5,
   "id": "761adbc2",
   "metadata": {},
   "outputs": [],
   "source": [
    "df[\"day\"] = df[\"Date\"].dt.day\n",
    "df[\"month\"] = df[\"Date\"].dt.month\n",
    "df[\"day_of_year\"] = df[\"Date\"].dt.dayofyear"
   ]
  },
  {
   "cell_type": "markdown",
   "id": "5f4c038d",
   "metadata": {},
   "source": [
    "#### Calcular nuevos datos"
   ]
  },
  {
   "cell_type": "code",
   "execution_count": 6,
   "id": "cba05974",
   "metadata": {},
   "outputs": [],
   "source": [
    "df_daily = (\n",
    "    df.groupby([\"month\", \"day\"])[\"Value\"]\n",
    "    .agg(Tmin=\"min\", Tmax=\"max\")\n",
    "    .reset_index()\n",
    ")\n",
    "df_daily[\"Tavg\"] = (df_daily[\"Tmax\"] + df_daily[\"Tmin\"]) / 2\n"
   ]
  },
  {
   "cell_type": "markdown",
   "id": "e435e67c",
   "metadata": {},
   "source": [
    "#### HDD"
   ]
  },
  {
   "cell_type": "code",
   "execution_count": 7,
   "id": "be371093",
   "metadata": {},
   "outputs": [],
   "source": [
    "def calc_HDD(row):\n",
    "    Tmax, Tmin, Tavg = row[\"Tmax\"], row[\"Tmin\"], row[\"Tavg\"]\n",
    "    if Tmax <= Tbase:\n",
    "        return Tbase - Tavg\n",
    "    elif Tavg <= Tbase < Tmax:\n",
    "        return ((Tbase - Tmin) / 2) - ((Tmax - Tbase) / 4)\n",
    "    elif Tmin < Tbase < Tavg:\n",
    "        return (Tbase - Tmin) / 4\n",
    "    else:\n",
    "        return 0\n",
    "\n",
    "df_daily[\"HDD\"] = df_daily.apply(calc_HDD, axis=1)"
   ]
  },
  {
   "cell_type": "markdown",
   "id": "9ebb4948",
   "metadata": {},
   "source": [
    "#### Salida"
   ]
  },
  {
   "cell_type": "code",
   "execution_count": 8,
   "id": "45ad2f5a",
   "metadata": {},
   "outputs": [],
   "source": [
    "df_daily[\"Date\"] = df_daily.apply(lambda r: f\"{int(r['day']):02d}-{int(r['month']):02d}\", axis=1)\n",
    "\n",
    "df_result = df_daily[[\"Date\", \"HDD\"]].sort_values(by=[\"Date\"])\n",
    "\n",
    "df_result.to_excel(\"HDD_por_dia_promedio.xlsx\", index=False)\n"
   ]
  }
 ],
 "metadata": {
  "kernelspec": {
   "display_name": "base",
   "language": "python",
   "name": "python3"
  },
  "language_info": {
   "codemirror_mode": {
    "name": "ipython",
    "version": 3
   },
   "file_extension": ".py",
   "mimetype": "text/x-python",
   "name": "python",
   "nbconvert_exporter": "python",
   "pygments_lexer": "ipython3",
   "version": "3.11.5"
  }
 },
 "nbformat": 4,
 "nbformat_minor": 5
}
