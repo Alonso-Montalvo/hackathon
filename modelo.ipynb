{
 "cells": [
  {
   "cell_type": "markdown",
   "id": "d524a92b",
   "metadata": {},
   "source": [
    "# Regresion lineal"
   ]
  },
  {
   "cell_type": "code",
   "execution_count": null,
   "id": "0fff1639",
   "metadata": {},
   "outputs": [],
   "source": [
    "from sklearn.linear_model import LinearRegression\n",
    "\n",
    "X = df[[\"HDD\"]]\n",
    "y = df[\"EnergiaCaldera(MW-hr)\"]\n",
    "model = LinearRegression().fit(X, y)\n"
   ]
  },
  {
   "cell_type": "code",
   "execution_count": null,
   "id": "3d80aa5c",
   "metadata": {},
   "outputs": [],
   "source": [
    "import statsmodels.formula.api as smf\n",
    "model = smf.ols(\"EnergiaCaldera ~ HDD + C(Instalacion)\", data=df).fit()\n",
    "print(model.summary())\n"
   ]
  },
  {
   "cell_type": "code",
   "execution_count": null,
   "id": "8d3d4f01",
   "metadata": {},
   "outputs": [],
   "source": [
    "df[\"HDD2\"] = df[\"HDD\"]**2\n",
    "model = smf.ols(\"EnergiaCaldera ~ HDD + HDD2 + C(Instalacion)\", data=df).fit()\n"
   ]
  },
  {
   "cell_type": "code",
   "execution_count": null,
   "id": "fd9eac39",
   "metadata": {},
   "outputs": [],
   "source": [
    "from sklearn.ensemble import RandomForestRegressor\n",
    "model = RandomForestRegressor(n_estimators=200, random_state=42)\n",
    "model.fit(X, y)\n"
   ]
  },
  {
   "cell_type": "code",
   "execution_count": null,
   "id": "e5157414",
   "metadata": {},
   "outputs": [],
   "source": [
    "import statsmodels.formula.api as smf\n",
    "model = smf.mixedlm(\"EnergiaCaldera ~ HDD\", df, groups=df[\"Instalacion\"]).fit()\n"
   ]
  },
  {
   "cell_type": "markdown",
   "id": "c80e564d",
   "metadata": {},
   "source": [
    "## LSTM"
   ]
  },
  {
   "cell_type": "code",
   "execution_count": null,
   "id": "1fcdf6cd",
   "metadata": {},
   "outputs": [],
   "source": [
    "import pandas as pd\n",
    "import numpy as np\n",
    "from tensorflow.keras.models import Sequential\n",
    "from tensorflow.keras.layers import LSTM, Dense\n",
    "from sklearn.preprocessing import MinMaxScaler\n",
    "import plotly.graph_objects as go\n",
    "\n",
    "# --- 1. Cargar datos ---\n",
    "df = pd.read_excel(\"base_datos_energia_hdd.xlsx\")\n",
    "inst = \"m218807\"\n",
    "df = df[df[\"Instalacion\"] == inst].sort_values(\"Date\")\n",
    "\n",
    "# --- 2. Escalado ---\n",
    "scaler = MinMaxScaler()\n",
    "scaled = scaler.fit_transform(df[[\"HDD\", \"EnergiaCaldera(MW-hr)\"]])\n",
    "df[[\"HDD\", \"EnergiaCaldera(MW-hr)\"]] = scaled\n",
    "\n",
    "# --- 3. Crear secuencias de entrenamiento ---\n",
    "def create_sequences(data, seq_len=7):\n",
    "    X, y = [], []\n",
    "    for i in range(len(data) - seq_len):\n",
    "        X.append(data[i:i+seq_len, 0])  # HDD como input\n",
    "        y.append(data[i+seq_len, 1])    # energía como output\n",
    "    return np.array(X), np.array(y)\n",
    "\n",
    "data = df[[\"HDD\", \"EnergiaCaldera(MW-hr)\"]].values\n",
    "X, y = create_sequences(data, seq_len=7)\n",
    "\n",
    "# Fechas asociadas a cada valor predicho\n",
    "fechas = df[\"Date\"].iloc[7:].reset_index(drop=True)\n",
    "\n",
    "# Dar forma para LSTM: [samples, timesteps, features]\n",
    "X = X.reshape((X.shape[0], X.shape[1], 1))\n",
    "\n",
    "# --- 4. Definir modelo LSTM ---\n",
    "model = Sequential([\n",
    "    LSTM(64, input_shape=(X.shape[1], 1), return_sequences=False),\n",
    "    Dense(32, activation='relu'),\n",
    "    Dense(1)\n",
    "])\n",
    "\n",
    "model.compile(optimizer='adam', loss='mse')\n",
    "\n",
    "# --- 5. Entrenamiento ---\n",
    "model.fit(X, y, epochs=50, batch_size=16, validation_split=0.1, verbose=1)\n",
    "\n",
    "# --- 6. Predicción ---\n",
    "y_pred = model.predict(X)\n",
    "\n",
    "# --- 7. Desescalar para comparar ---\n",
    "pred = np.zeros((len(y_pred), 2))\n",
    "pred[:, 1] = y_pred[:, 0]\n",
    "orig = np.zeros((len(y), 2))\n",
    "orig[:, 1] = y\n",
    "\n",
    "inv_pred = scaler.inverse_transform(pred)[:, 1]\n",
    "inv_orig = scaler.inverse_transform(orig)[:, 1]\n",
    "\n",
    "# --- 8. Crear series temporales por día ---\n",
    "# Como los datos son diarios, usamos las fechas directamente (no por hora)\n",
    "real_series = pd.Series(inv_orig, index=fechas)\n",
    "pred_series = pd.Series(inv_pred, index=fechas)\n",
    "\n",
    "# --- 9. Visualización interactiva con Plotly ---\n",
    "trace_real = go.Scatter(\n",
    "    x=real_series.index, y=real_series.values,\n",
    "    mode='lines+markers', name='Real', line=dict(color='blue')\n",
    ")\n",
    "trace_pred = go.Scatter(\n",
    "    x=pred_series.index, y=pred_series.values,\n",
    "    mode='lines+markers', name='Predicho', line=dict(color='red')\n",
    ")\n",
    "\n",
    "fig = go.Figure(data=[trace_real, trace_pred])\n",
    "\n",
    "fig.update_layout(\n",
    "    title=f'Predicción diaria de energía ({inst})',\n",
    "    xaxis_title='Fecha',\n",
    "    yaxis_title='Energía Caldera (MW-hr)',\n",
    "    template='plotly_white',\n",
    "    hovermode='x unified'\n",
    ")\n",
    "\n",
    "fig.show()\n"
   ]
  },
  {
   "cell_type": "markdown",
   "id": "ff91e4dc",
   "metadata": {},
   "source": [
    "# Biomasa"
   ]
  },
  {
   "cell_type": "code",
   "execution_count": null,
   "id": "528e93a7",
   "metadata": {},
   "outputs": [],
   "source": [
    "import statsmodels.formula.api as smf\n",
    "\n",
    "df = pd.read_excel(\"base_datos_biomasa.xlsx\")\n",
    "\n",
    "modelo = smf.ols(\"ConsumoBiomasa ~ DemandaEnergetica + C(Instalacion)\", data=df).fit()\n",
    "print(modelo.summary())\n"
   ]
  }
 ],
 "metadata": {
  "kernelspec": {
   "display_name": "EnergiaPracticas",
   "language": "python",
   "name": "python3"
  },
  "language_info": {
   "name": "python",
   "version": "3.10.16"
  }
 },
 "nbformat": 4,
 "nbformat_minor": 5
}
