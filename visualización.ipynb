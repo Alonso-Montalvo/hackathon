{
 "cells": [
  {
   "cell_type": "code",
   "execution_count": null,
   "id": "9bd735c5",
   "metadata": {},
   "outputs": [],
   "source": [
    "import pandas as pd\n",
    "import numpy as np\n",
    "import matplotlib.pyplot as plt\n",
    "import seaborn as sns\n",
    "from IPython.display import display, HTML\n"
   ]
  },
  {
   "cell_type": "code",
   "execution_count": null,
   "id": "26f91f37",
   "metadata": {},
   "outputs": [],
   "source": [
    "historico = pd.read_csv(\"historico_consumo.csv\")\n",
    "predicciones = pd.read_csv(\"predicciones_aemet.csv\")\n"
   ]
  },
  {
   "cell_type": "code",
   "execution_count": null,
   "id": "a3d91e48",
   "metadata": {},
   "outputs": [],
   "source": [
    "df = historico.merge(predicciones, on=[\"instalacion\", \"fecha\"], suffixes=(\"_real\", \"_pred\"))\n"
   ]
  },
  {
   "cell_type": "code",
   "execution_count": null,
   "id": "3cd42870",
   "metadata": {},
   "outputs": [],
   "source": [
    "for inst in df['instalacion'].unique():\n",
    "    subset = df[df['instalacion'] == inst]\n",
    "    plt.figure(figsize=(10,5))\n",
    "    plt.plot(subset['fecha'], subset['consumo_real'], label='Real')\n",
    "    plt.plot(subset['fecha'], subset['consumo_pred'], label='Predicción', linestyle='--')\n",
    "    plt.title(f'Instalación {inst}')\n",
    "    plt.legend()\n",
    "    plt.show()\n"
   ]
  },
  {
   "cell_type": "code",
   "execution_count": null,
   "id": "7a1e4305",
   "metadata": {},
   "outputs": [],
   "source": [
    "df['alerta'] = np.where(abs(df['consumo_pred'] - df['consumo_real']) > 0.15 * df['consumo_real'], \"⚠️ Alta desviación\", \"\")\n"
   ]
  },
  {
   "cell_type": "code",
   "execution_count": null,
   "id": "cff79d9d",
   "metadata": {},
   "outputs": [],
   "source": [
    "resumen = df.groupby('instalacion')[['consumo_real', 'consumo_pred']].mean()\n",
    "resumen['error_medio_%'] = (abs(resumen['consumo_real'] - resumen['consumo_pred']) / resumen['consumo_real'] * 100)\n",
    "display(resumen)\n"
   ]
  },
  {
   "cell_type": "code",
   "execution_count": null,
   "id": "946ab552",
   "metadata": {},
   "outputs": [],
   "source": [
    "import plotly.express as px\n",
    "fig = px.line(df, x=\"fecha\", y=[\"consumo_real\", \"consumo_pred\"], color=\"instalacion\")\n",
    "fig.show()\n"
   ]
  }
 ],
 "metadata": {
  "language_info": {
   "name": "python"
  }
 },
 "nbformat": 4,
 "nbformat_minor": 5
}
