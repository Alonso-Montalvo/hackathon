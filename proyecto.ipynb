{
 "cells": [
  {
   "cell_type": "markdown",
   "id": "5ec997b3",
   "metadata": {},
   "source": [
    "### INNOVATHON"
   ]
  },
  {
   "cell_type": "code",
   "execution_count": 18,
   "id": "1f7ef87f",
   "metadata": {},
   "outputs": [
    {
     "name": "stderr",
     "output_type": "stream",
     "text": [
      "<>:6: SyntaxWarning: invalid escape sequence '\\h'\n",
      "<>:6: SyntaxWarning: invalid escape sequence '\\h'\n",
      "C:\\Users\\Usuario\\AppData\\Local\\Temp\\ipykernel_5712\\4033492573.py:6: SyntaxWarning: invalid escape sequence '\\h'\n",
      "  carpeta = \"innovation moderate\\hdd-anual\"\n"
     ]
    }
   ],
   "source": [
    "import pandas as pd\n",
    "import glob\n",
    "import os\n",
    "\n",
    "# Carpeta donde están los archivos Excel\n",
    "carpeta = \"innovation moderate\\hdd-anual\"  \n",
    "\n",
    "# Buscar todos los archivos Excel (.xlsx o .xls)\n",
    "archivos = glob.glob(os.path.join(carpeta, \"*.xlsx\")) + glob.glob(os.path.join(carpeta, \"*.xls\"))\n",
    "\n",
    "# Leer y concatenar todos los archivos\n",
    "df = pd.concat([pd.read_excel(f) for f in archivos], ignore_index=True)\n",
    "\n",
    "# Eliminar duplicados (opcional)\n",
    "df = df.drop_duplicates()\n",
    "#sobreescribir los valores la columna Unnamed: 0 a Date en los casos que no tiene contenido \n",
    "df['Date'] = df.apply(lambda row: row['Unnamed: 0'] if pd.isnull(row['Date']) else row['Date'], axis=1)\n",
    "df = df.drop(columns=['Unnamed: 0'])\n",
    "# Guardar el resultado\n",
    "df.to_csv(os.path.join(\"total-degree-days.xlsx\"), index=False)\n",
    "\n",
    "\n"
   ]
  }
 ],
 "metadata": {
  "kernelspec": {
   "display_name": "base",
   "language": "python",
   "name": "python3"
  },
  "language_info": {
   "codemirror_mode": {
    "name": "ipython",
    "version": 3
   },
   "file_extension": ".py",
   "mimetype": "text/x-python",
   "name": "python",
   "nbconvert_exporter": "python",
   "pygments_lexer": "ipython3",
   "version": "3.12.7"
  }
 },
 "nbformat": 4,
 "nbformat_minor": 5
}
