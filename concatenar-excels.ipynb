{
 "cells": [
  {
   "cell_type": "markdown",
   "id": "5ec997b3",
   "metadata": {},
   "source": [
    "### INNOVATHON"
   ]
  },
  {
   "cell_type": "markdown",
   "id": "75e601ec",
   "metadata": {},
   "source": [
    "# juntar temperaturas de todos los años"
   ]
  },
  {
   "cell_type": "code",
   "execution_count": 18,
   "id": "1f7ef87f",
   "metadata": {},
   "outputs": [
    {
     "name": "stderr",
     "output_type": "stream",
     "text": [
      "<>:6: SyntaxWarning: invalid escape sequence '\\h'\n",
      "<>:6: SyntaxWarning: invalid escape sequence '\\h'\n",
      "C:\\Users\\Usuario\\AppData\\Local\\Temp\\ipykernel_5712\\4033492573.py:6: SyntaxWarning: invalid escape sequence '\\h'\n",
      "  carpeta = \"innovation moderate\\hdd-anual\"\n"
     ]
    }
   ],
   "source": [
    "import pandas as pd\n",
    "import glob\n",
    "import os\n",
    "\n",
    "# Carpeta donde están los archivos Excel\n",
    "carpeta = \"innovation moderate\\hdd-anual\"  \n",
    "\n",
    "# Buscar todos los archivos Excel (.xlsx o .xls)\n",
    "archivos = glob.glob(os.path.join(carpeta, \"*.xlsx\")) + glob.glob(os.path.join(carpeta, \"*.xls\"))\n",
    "\n",
    "# Leer y concatenar todos los archivos\n",
    "df = pd.concat([pd.read_excel(f) for f in archivos], ignore_index=True)\n",
    "\n",
    "# Eliminar duplicados (opcional)\n",
    "df = df.drop_duplicates()\n",
    "#sobreescribir los valores la columna Unnamed: 0 a Date en los casos que no tiene contenido \n",
    "df['Date'] = df.apply(lambda row: row['Unnamed: 0'] if pd.isnull(row['Date']) else row['Date'], axis=1)\n",
    "df = df.drop(columns=['Unnamed: 0'])\n",
    "# Guardar el resultado\n",
    "df.to_csv(os.path.join(\"total-degree-days.xlsx\"), index=False)\n",
    "\n",
    "\n"
   ]
  },
  {
   "cell_type": "markdown",
   "id": "174d650a",
   "metadata": {},
   "source": [
    "# juntar instalaciones con dos calderas en 1 "
   ]
  },
  {
   "cell_type": "code",
   "execution_count": 11,
   "id": "e7860341",
   "metadata": {},
   "outputs": [
    {
     "name": "stdout",
     "output_type": "stream",
     "text": [
      "                  Timestamp  EnergiaCaldera1(MW-hr)  EnergiaCaldera2(MW-hr)  \\\n",
      "0  1 abr 2024 00:00:00 CEST                    98.4                    61.3   \n",
      "1  1 abr 2025 00:00:00 CEST                   188.8                   193.7   \n",
      "2  1 ago 2024 00:00:00 CEST                   119.9                    82.3   \n",
      "3  1 ago 2025 00:00:00 CEST                   209.0                   213.9   \n",
      "4   1 dic 2024 00:00:00 CET                   144.3                   103.5   \n",
      "\n",
      "   EnergiaCaldera(MW-hr)  \n",
      "0                  125.8  \n",
      "1                  126.8  \n",
      "2                  127.8  \n",
      "3                  128.8  \n",
      "4                  129.8  \n"
     ]
    },
    {
     "name": "stderr",
     "output_type": "stream",
     "text": [
      "<>:4: SyntaxWarning: invalid escape sequence '\\p'\n",
      "<>:5: SyntaxWarning: invalid escape sequence '\\p'\n",
      "<>:4: SyntaxWarning: invalid escape sequence '\\p'\n",
      "<>:5: SyntaxWarning: invalid escape sequence '\\p'\n",
      "C:\\Users\\Usuario\\AppData\\Local\\Temp\\ipykernel_7076\\2023588663.py:4: SyntaxWarning: invalid escape sequence '\\p'\n",
      "  df1 = pd.read_excel(\"innovation moderate\\produccion-energetica\\m218820-1.xlsx\")\n",
      "C:\\Users\\Usuario\\AppData\\Local\\Temp\\ipykernel_7076\\2023588663.py:5: SyntaxWarning: invalid escape sequence '\\p'\n",
      "  df2 = pd.read_excel(\"innovation moderate\\produccion-energetica\\m218820-2.xlsx\")\n"
     ]
    }
   ],
   "source": [
    "import pandas as pd\n",
    "\n",
    "# --- 1. Leer los dos archivos Excel ---\n",
    "df1 = pd.read_excel(\"innovation moderate\\produccion-energetica\\m218820-1.xlsx\")\n",
    "df2 = pd.read_excel(\"innovation moderate\\produccion-energetica\\m218820-2.xlsx\")\n",
    "\n",
    "# --- 2. Asegurar que las columnas tienen el mismo nombre ---\n",
    "df1.columns = [\"Timestamp\", \"EnergiaCaldera1(MW-hr)\"]\n",
    "df2.columns = [\"Timestamp\", \"EnergiaCaldera2(MW-hr)\"]\n",
    "\n",
    "# --- 6. Sumar las dos columnas de energía ---\n",
    "df1[\"EnergiaCaldera1(MW-hr)\"] = df1[\"EnergiaCaldera1(MW-hr)\"].astype(str).str.replace(\",\", \".\").astype(float)\n",
    "df2[\"EnergiaCaldera2(MW-hr)\"] = df2[\"EnergiaCaldera2(MW-hr)\"].astype(str).str.replace(\",\", \".\").astype(float)\n",
    "\n",
    "df_sum = pd.merge(df1, df2, on=\"Timestamp\", how=\"outer\", suffixes=(\"_1\", \"_2\"))\n",
    "\n",
    "df_sum[\"EnergiaCaldera(MW-hr)\"] = df1[\"EnergiaCaldera1(MW-hr)\"] + df2[\"EnergiaCaldera2(MW-hr)\"]\n",
    "\n",
    "# --- 7. Dejar solo las dos columnas finales ---\n",
    "df_final = df_sum[[\"Timestamp\", \"EnergiaCaldera(MW-hr)\"]]\n",
    "\n",
    "# --- 8. Ordenar por Timestamp (opcional) ---\n",
    "df_final = df_final.sort_values(\"Timestamp\")\n",
    "\n",
    "# --- 5. (Opcional) Guardar resultado a un nuevo Excel ---\n",
    "df_final.to_excel(\"m218820.xlsx\", index=False)\n",
    "\n",
    "print(df_sum.head())\n"
   ]
  }
 ],
 "metadata": {
  "kernelspec": {
   "display_name": "base",
   "language": "python",
   "name": "python3"
  },
  "language_info": {
   "codemirror_mode": {
    "name": "ipython",
    "version": 3
   },
   "file_extension": ".py",
   "mimetype": "text/x-python",
   "name": "python",
   "nbconvert_exporter": "python",
   "pygments_lexer": "ipython3",
   "version": "3.12.7"
  }
 },
 "nbformat": 4,
 "nbformat_minor": 5
}
